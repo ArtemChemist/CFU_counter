{
 "cells": [
  {
   "cell_type": "code",
   "execution_count": 3,
   "metadata": {},
   "outputs": [
    {
     "name": "stdout",
     "output_type": "stream",
     "text": [
      "/home/art_usr/source_code/CFU_counter/Augmented already exists\n",
      "Full dataset: 300 images with bacteria and 3479 without\n"
     ]
    }
   ],
   "source": [
    "import numpy as np\n",
    "import glob\n",
    "from cv2 import resize, imread, imwrite, IMREAD_COLOR\n",
    "import cv2\n",
    "from os import path, mkdir\n",
    "\n",
    "# Set up folder\n",
    "SIZE = 456 #Size of the images this model will deal with\n",
    "\n",
    "# Set up folder, unless it is already set up\n",
    "p = path.abspath('.')\n",
    "output_dir = path.join(p, 'Augmented')\n",
    "if not path.exists(output_dir):\n",
    "    mkdir(output_dir)\n",
    "    print(f\"{output_dir} created\")\n",
    "else:\n",
    "    print(f\"{output_dir} already exists\")\n",
    "\n",
    "# Read filenames in the thresholded folder\n",
    "image_names = []\n",
    "labels = []\n",
    "\n",
    "for file in glob.glob('./Thresholded_1024/*'):\n",
    "\tfilename = file.split('/')[-1]\n",
    "\tnum_colonies = int(filename.split('-')[2].strip().split('.')[0])\n",
    "\tif num_colonies == 0:\n",
    "\t\tlabels.append(0)\n",
    "\telse:\n",
    "\t\tlabels.append(1)\n",
    "\timage_names.append(filename)\n",
    "\n",
    "X_files = np.array(image_names) #  Array with image nbames\n",
    "y = np.array(labels)\t\t\t#  Array with binary labels\n",
    "\n",
    "#  Make two arrays with files: one for positive and one for negative images\n",
    "pos_im_files = [X_files[i] for i in range(X_files.shape[0]) if y[i]]\n",
    "pos_im_files = np.array(pos_im_files)\n",
    "neg_im_files = [X_files[i] for i in range(X_files.shape[0]) if not y[i]]\n",
    "neg_im_files = np.array(neg_im_files)\n",
    "num_pos = pos_im_files.shape[0]\n",
    "num_neg = neg_im_files.shape[0]\n",
    "print(f'Full dataset: {num_pos} images with bacteria and {num_neg} without')\n",
    "\n"
   ]
  },
  {
   "cell_type": "code",
   "execution_count": 12,
   "metadata": {},
   "outputs": [
    {
     "name": "stdout",
     "output_type": "stream",
     "text": [
      "Something went wrong\n",
      "Something went wrong\n",
      "Something went wrong\n",
      "Something went wrong\n",
      "Something went wrong\n",
      "Something went wrong\n",
      "Something went wrong\n",
      "Something went wrong\n",
      "Something went wrong\n",
      "Something went wrong\n",
      "Something went wrong\n"
     ]
    }
   ],
   "source": [
    "for image_file in pos_im_files:\n",
    "    try:\n",
    "        neg_idx = np.random.choice(num_neg, 10, replace = False)\n",
    "        im_to_aug_file = path.join(p, 'Thresholded_1024', image_file)\n",
    "        im_to_aug = cv2.imread(im_to_aug_file, IMREAD_COLOR)\n",
    "        for i, idx in enumerate(neg_idx):\n",
    "            neg_background_path= path.join(p, 'Thresholded_1024', neg_im_files[idx])\n",
    "            neg_bckgr_im = cv2.imread(neg_background_path, IMREAD_COLOR)\n",
    "\n",
    "            new_im = np.maximum(im_to_aug, neg_bckgr_im)\n",
    "\n",
    "            new_file = image_file.split('-')[0]+image_file.split('-')[1]+f'- au{i}.jpg'\n",
    "            new_path = path.join(output_dir, new_file)\n",
    "            cv2.imwrite(new_path,new_im)\n",
    "    except:\n",
    "        print('Something went wrong')\n"
   ]
  }
 ],
 "metadata": {
  "kernelspec": {
   "display_name": "tf",
   "language": "python",
   "name": "python3"
  },
  "language_info": {
   "codemirror_mode": {
    "name": "ipython",
    "version": 3
   },
   "file_extension": ".py",
   "mimetype": "text/x-python",
   "name": "python",
   "nbconvert_exporter": "python",
   "pygments_lexer": "ipython3",
   "version": "3.10.8"
  },
  "orig_nbformat": 4
 },
 "nbformat": 4,
 "nbformat_minor": 2
}
