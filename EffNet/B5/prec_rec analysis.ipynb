{
 "cells": [
  {
   "cell_type": "code",
   "execution_count": 1,
   "metadata": {},
   "outputs": [],
   "source": [
    "import numpy as np\n",
    "import matplotlib.pyplot as plt\n",
    "import numpy as np\n",
    "import pandas as pd"
   ]
  },
  {
   "cell_type": "code",
   "execution_count": 2,
   "metadata": {},
   "outputs": [],
   "source": [
    "def plot_prec_rec(df, thresholded = 0):\n",
    "        mask= (df['thresholded?'] == thresholded)\n",
    "        bins = pd.cut(df[\"threshold\"], np.arange(0, 0.05, 0.001))\n",
    "\n",
    "        df_by_iter = df[mask].groupby(['iteration', bins]).mean()[['precision','recall']]\n",
    "        to_plot = df_by_iter.groupby(['threshold']).mean()\n",
    "        to_plot[['prec_std', 'rec_std']] = df_by_iter.groupby(['threshold']).std()[['precision', 'recall']]\n",
    "        to_plot['x'] = pd.IntervalIndex(to_plot.index.get_level_values('threshold')).mid\n",
    "        to_plot = to_plot.reset_index().drop('threshold', axis=1)\n",
    "        to_plot['prec_lower'] = to_plot.precision - 1.96*to_plot.prec_std\n",
    "        to_plot['prec_upper'] = to_plot.precision + 1.96*to_plot.prec_std\n",
    "        to_plot['rec_lower'] = to_plot.recall - 1.96*to_plot.rec_std\n",
    "        to_plot['rec_upper'] = to_plot.recall + 1.96*to_plot.rec_std\n",
    "\n",
    "        fig, ax = plt.subplots()\n",
    "        ax.scatter(to_plot.x, to_plot.precision, color = 'blue', alpha = 0.5)\n",
    "        ax.fill_between(to_plot.x, to_plot.prec_upper, to_plot.prec_lower, color='blue', alpha=.2)\n",
    "        ax.scatter(to_plot.x, to_plot.recall, color = 'red', alpha = 0.5)\n",
    "        ax.fill_between(to_plot.x, to_plot.rec_upper, to_plot.rec_lower, color='red', alpha=.2)\n",
    "        x_rec_thr = to_plot.x[to_plot.recall<0.95].iloc[0]\n",
    "        x_prec_thr = to_plot.x[to_plot.precision>0.3].iloc[0]\n",
    "\n",
    "        ax.vlines(x = x_rec_thr,\n",
    "                color = 'r',\n",
    "                ymin = to_plot.rec_lower[to_plot.x == x_rec_thr],\n",
    "                ymax = to_plot.rec_upper[to_plot.x == x_rec_thr],\n",
    "                linestyles='-.')\n",
    "\n",
    "        ax.vlines(x = x_prec_thr,\n",
    "                color = 'b',\n",
    "                ymin = to_plot.prec_lower[to_plot.x == x_prec_thr],\n",
    "                ymax = to_plot.prec_upper[to_plot.x == x_prec_thr],\n",
    "                linestyles='-.')\n",
    "\n",
    "        print(f\"Precision is above 0.3 with threshold above {100*x_prec_thr :.2f}%\")\n",
    "        print(f\"Recall is above 0.95 with threshold below {100*x_rec_thr :.2f}%\")\n",
    "        print(f\"Gap to bridge is  {x_prec_thr -x_rec_thr:.3f}\")\n",
    "        print(f\"Recall at precision threshold is above {to_plot.recall[to_plot.x == x_prec_thr].iloc[0]:.2f}\")"
   ]
  },
  {
   "cell_type": "code",
   "execution_count": 3,
   "metadata": {},
   "outputs": [
    {
     "name": "stderr",
     "output_type": "stream",
     "text": [
      "/tmp/ipykernel_13813/4279060513.py:5: FutureWarning: The default of observed=False is deprecated and will be changed to True in a future version of pandas. Pass observed=False to retain current behavior or observed=True to adopt the future default and silence this warning.\n",
      "  df_by_iter = df[mask].groupby(['iteration', bins]).mean()[['precision','recall']]\n",
      "/tmp/ipykernel_13813/4279060513.py:6: FutureWarning: The default of observed=False is deprecated and will be changed to True in a future version of pandas. Pass observed=False to retain current behavior or observed=True to adopt the future default and silence this warning.\n",
      "  to_plot = df_by_iter.groupby(['threshold']).mean()\n",
      "/tmp/ipykernel_13813/4279060513.py:7: FutureWarning: The default of observed=False is deprecated and will be changed to True in a future version of pandas. Pass observed=False to retain current behavior or observed=True to adopt the future default and silence this warning.\n",
      "  to_plot[['prec_std', 'rec_std']] = df_by_iter.groupby(['threshold']).std()[['precision', 'recall']]\n"
     ]
    },
    {
     "name": "stdout",
     "output_type": "stream",
     "text": [
      "Precision is above 0.3 with threshold above 0.15%\n",
      "Recall is above 0.95 with threshold below 0.15%\n",
      "Gap to bridge is  0.000\n",
      "Recall at precision threshold is above 0.89\n"
     ]
    },
    {
     "data": {
      "image/png": "[encoded data removed]",
      "text/plain": [
       "<Figure size 640x480 with 1 Axes>"
      ]
     },
     "metadata": {},
     "output_type": "display_data"
    }
   ],
   "source": [
    "df = pd.read_csv('B5_prec_rec_finetuned.csv', delimiter='\\t')\n",
    "plot_prec_rec(df, 0)"
   ]
  },
  {
   "cell_type": "code",
   "execution_count": 4,
   "metadata": {},
   "outputs": [
    {
     "data": {
      "text/html": [
       "<div>\n",
       "<style scoped>\n",
       "    .dataframe tbody tr th:only-of-type {\n",
       "        vertical-align: middle;\n",
       "    }\n",
       "\n",
       "    .dataframe tbody tr th {\n",
       "        vertical-align: top;\n",
       "    }\n",
       "\n",
       "    .dataframe thead th {\n",
       "        text-align: right;\n",
       "    }\n",
       "</style>\n",
       "<table border=\"1\" class=\"dataframe\">\n",
       "  <thead>\n",
       "    <tr style=\"text-align: right;\">\n",
       "      <th></th>\n",
       "      <th>iteration</th>\n",
       "      <th>true</th>\n",
       "      <th>pred</th>\n",
       "    </tr>\n",
       "    <tr>\n",
       "      <th>name</th>\n",
       "      <th></th>\n",
       "      <th></th>\n",
       "      <th></th>\n",
       "    </tr>\n",
       "  </thead>\n",
       "  <tbody>\n",
       "    <tr>\n",
       "      <th>8e5f221988e621599a66b4295d11cd96-79-1.jpg</th>\n",
       "      <td>0</td>\n",
       "      <td>1</td>\n",
       "      <td>0</td>\n",
       "    </tr>\n",
       "    <tr>\n",
       "      <th>dccf1d01b546dfbdf4b1792431ced1cb-192-1.jpg</th>\n",
       "      <td>0</td>\n",
       "      <td>1</td>\n",
       "      <td>0</td>\n",
       "    </tr>\n",
       "    <tr>\n",
       "      <th>8e5f221988e621599a66b4295d11cd96-293-1.jpg</th>\n",
       "      <td>0</td>\n",
       "      <td>1</td>\n",
       "      <td>0</td>\n",
       "    </tr>\n",
       "    <tr>\n",
       "      <th>99a2b4a3f0e110765f489bbcaa97eaba-147-1.jpg</th>\n",
       "      <td>0</td>\n",
       "      <td>1</td>\n",
       "      <td>0</td>\n",
       "    </tr>\n",
       "    <tr>\n",
       "      <th>a22b8489132c79f58415f48d3e911b00-96-2.jpg</th>\n",
       "      <td>0</td>\n",
       "      <td>1</td>\n",
       "      <td>0</td>\n",
       "    </tr>\n",
       "    <tr>\n",
       "      <th>7c689131cd8b4692c18e38a35ebfe5bc-124-1.jpg</th>\n",
       "      <td>0</td>\n",
       "      <td>1</td>\n",
       "      <td>0</td>\n",
       "    </tr>\n",
       "    <tr>\n",
       "      <th>7c09b8e55c2f67a1feb91c6b5b6c25ec-126-1.jpg</th>\n",
       "      <td>0</td>\n",
       "      <td>1</td>\n",
       "      <td>0</td>\n",
       "    </tr>\n",
       "    <tr>\n",
       "      <th>b393e6b86ed4f6cb542df41fe298b5e0-98-1.jpg</th>\n",
       "      <td>0</td>\n",
       "      <td>1</td>\n",
       "      <td>0</td>\n",
       "    </tr>\n",
       "    <tr>\n",
       "      <th>43191236f6725e80c464e05801068bd7-293-1.jpg</th>\n",
       "      <td>0</td>\n",
       "      <td>1</td>\n",
       "      <td>0</td>\n",
       "    </tr>\n",
       "    <tr>\n",
       "      <th>cc0c48e0b54fb51cc2aec9c6557b2618-79-1.jpg</th>\n",
       "      <td>0</td>\n",
       "      <td>1</td>\n",
       "      <td>0</td>\n",
       "    </tr>\n",
       "    <tr>\n",
       "      <th>5fac66678ec47a25f69eca4a544a341a-271-1.jpg</th>\n",
       "      <td>0</td>\n",
       "      <td>1</td>\n",
       "      <td>0</td>\n",
       "    </tr>\n",
       "    <tr>\n",
       "      <th>91a8a962e8362e95c706fd0d2ad700c9-269-1.jpg</th>\n",
       "      <td>0</td>\n",
       "      <td>1</td>\n",
       "      <td>0</td>\n",
       "    </tr>\n",
       "    <tr>\n",
       "      <th>f56a43c9745e3a1ab30ad4ebb5bfa12b-270-1.jpg</th>\n",
       "      <td>0</td>\n",
       "      <td>1</td>\n",
       "      <td>0</td>\n",
       "    </tr>\n",
       "    <tr>\n",
       "      <th>25445beca5d911647b8a25cb4c6438c2-127-2.jpg</th>\n",
       "      <td>0</td>\n",
       "      <td>1</td>\n",
       "      <td>0</td>\n",
       "    </tr>\n",
       "    <tr>\n",
       "      <th>a7ac85ad5a9b0c77757481149b573dbb-170-0.jpg</th>\n",
       "      <td>0</td>\n",
       "      <td>0</td>\n",
       "      <td>1</td>\n",
       "    </tr>\n",
       "    <tr>\n",
       "      <th>f042d5173d723155d6ddef74192ff58d-68-0.jpg</th>\n",
       "      <td>0</td>\n",
       "      <td>0</td>\n",
       "      <td>1</td>\n",
       "    </tr>\n",
       "    <tr>\n",
       "      <th>f0ca3c6c9490ad6633b462e81c17e30c-102-0.jpg</th>\n",
       "      <td>0</td>\n",
       "      <td>0</td>\n",
       "      <td>1</td>\n",
       "    </tr>\n",
       "    <tr>\n",
       "      <th>b1a7694d8f72ff0f830665114858f3ee-270-0.jpg</th>\n",
       "      <td>0</td>\n",
       "      <td>0</td>\n",
       "      <td>1</td>\n",
       "    </tr>\n",
       "    <tr>\n",
       "      <th>b011a5b444985c14c1abb9ad5f063257-168-0.jpg</th>\n",
       "      <td>0</td>\n",
       "      <td>0</td>\n",
       "      <td>1</td>\n",
       "    </tr>\n",
       "    <tr>\n",
       "      <th>aaebf089d8e089eb50357509350aea15-269-0.jpg</th>\n",
       "      <td>0</td>\n",
       "      <td>0</td>\n",
       "      <td>1</td>\n",
       "    </tr>\n",
       "  </tbody>\n",
       "</table>\n",
       "</div>"
      ],
      "text/plain": [
       "                                            iteration  true  pred\n",
       "name                                                             \n",
       "8e5f221988e621599a66b4295d11cd96-79-1.jpg           0     1     0\n",
       "dccf1d01b546dfbdf4b1792431ced1cb-192-1.jpg          0     1     0\n",
       "8e5f221988e621599a66b4295d11cd96-293-1.jpg          0     1     0\n",
       "99a2b4a3f0e110765f489bbcaa97eaba-147-1.jpg          0     1     0\n",
       "a22b8489132c79f58415f48d3e911b00-96-2.jpg           0     1     0\n",
       "7c689131cd8b4692c18e38a35ebfe5bc-124-1.jpg          0     1     0\n",
       "7c09b8e55c2f67a1feb91c6b5b6c25ec-126-1.jpg          0     1     0\n",
       "b393e6b86ed4f6cb542df41fe298b5e0-98-1.jpg           0     1     0\n",
       "43191236f6725e80c464e05801068bd7-293-1.jpg          0     1     0\n",
       "cc0c48e0b54fb51cc2aec9c6557b2618-79-1.jpg           0     1     0\n",
       "5fac66678ec47a25f69eca4a544a341a-271-1.jpg          0     1     0\n",
       "91a8a962e8362e95c706fd0d2ad700c9-269-1.jpg          0     1     0\n",
       "f56a43c9745e3a1ab30ad4ebb5bfa12b-270-1.jpg          0     1     0\n",
       "25445beca5d911647b8a25cb4c6438c2-127-2.jpg          0     1     0\n",
       "a7ac85ad5a9b0c77757481149b573dbb-170-0.jpg          0     0     1\n",
       "f042d5173d723155d6ddef74192ff58d-68-0.jpg           0     0     1\n",
       "f0ca3c6c9490ad6633b462e81c17e30c-102-0.jpg          0     0     1\n",
       "b1a7694d8f72ff0f830665114858f3ee-270-0.jpg          0     0     1\n",
       "b011a5b444985c14c1abb9ad5f063257-168-0.jpg          0     0     1\n",
       "aaebf089d8e089eb50357509350aea15-269-0.jpg          0     0     1"
      ]
     },
     "execution_count": 4,
     "metadata": {},
     "output_type": "execute_result"
    }
   ],
   "source": [
    "errors_df = pd.read_csv('B5_errors_finetuned.csv', delimiter='\\t')\n",
    "errors_df = errors_df.groupby(['name']).sum().sort_values('true', ascending=False)\n",
    "errors_df.head(20)"
   ]
  },
  {
   "cell_type": "code",
   "execution_count": 5,
   "metadata": {},
   "outputs": [
    {
     "name": "stdout",
     "output_type": "stream",
     "text": [
      "On validation dataset finetuned B5 at threshold 0.5%:\n",
      "fp: 68   fn:14   rec:84.4%   prec:52.8%\n"
     ]
    }
   ],
   "source": [
    "fn = errors_df['true'].sum()\n",
    "fp = errors_df['pred'].sum()\n",
    "p = 90\n",
    "tp = p-fn\n",
    "rec = tp/p\n",
    "prec = tp/(tp+fp)\n",
    "print(\"On validation dataset finetuned B5 at threshold 0.5%:\")\n",
    "print(f\"fp: {fp}   fn:{fn}   rec:{100*rec:.1f}%   prec:{100*prec:.1f}%\")"
   ]
  },
  {
   "cell_type": "code",
   "execution_count": 6,
   "metadata": {},
   "outputs": [
    {
     "name": "stderr",
     "output_type": "stream",
     "text": [
      "/tmp/ipykernel_13813/4279060513.py:5: FutureWarning: The default of observed=False is deprecated and will be changed to True in a future version of pandas. Pass observed=False to retain current behavior or observed=True to adopt the future default and silence this warning.\n",
      "  df_by_iter = df[mask].groupby(['iteration', bins]).mean()[['precision','recall']]\n",
      "/tmp/ipykernel_13813/4279060513.py:6: FutureWarning: The default of observed=False is deprecated and will be changed to True in a future version of pandas. Pass observed=False to retain current behavior or observed=True to adopt the future default and silence this warning.\n",
      "  to_plot = df_by_iter.groupby(['threshold']).mean()\n",
      "/tmp/ipykernel_13813/4279060513.py:7: FutureWarning: The default of observed=False is deprecated and will be changed to True in a future version of pandas. Pass observed=False to retain current behavior or observed=True to adopt the future default and silence this warning.\n",
      "  to_plot[['prec_std', 'rec_std']] = df_by_iter.groupby(['threshold']).std()[['precision', 'recall']]\n"
     ]
    },
    {
     "name": "stdout",
     "output_type": "stream",
     "text": [
      "Precision is above 0.3 with threshold above 0.65%\n",
      "Recall is above 0.95 with threshold below 0.15%\n",
      "Gap to bridge is  0.005\n",
      "Recall at precision threshold is above 0.92\n"
     ]
    },
    {
     "data": {
      "image/png": "[encoded data removed]",
      "text/plain": [
       "<Figure size 640x480 with 1 Axes>"
      ]
     },
     "metadata": {},
     "output_type": "display_data"
    }
   ],
   "source": [
    "df_aug = pd.read_csv('B5_prec_rec_custom_aug_before_tune.csv', delimiter='\\t')\n",
    "plot_prec_rec(df_aug, 0)"
   ]
  },
  {
   "cell_type": "code",
   "execution_count": 8,
   "metadata": {},
   "outputs": [
    {
     "name": "stdout",
     "output_type": "stream",
     "text": [
      "On validation dataset B5 at threshold 0.1%:\n",
      "fp: 442   fn:6   rec:93.3%   prec:16.0%\n"
     ]
    }
   ],
   "source": [
    "\n",
    "errors_df = pd.read_csv('B5_errors_custom_aug_before_tune.csv', delimiter='\\t')\n",
    "errors_df = errors_df.groupby(['name']).sum().sort_values('true', ascending=False)\n",
    "fn = errors_df['true'].sum()\n",
    "fp = errors_df['pred'].sum()\n",
    "p = 90\n",
    "tp = p-fn\n",
    "rec = tp/p\n",
    "prec = tp/(tp+fp)\n",
    "print(\"On validation dataset B5 at threshold 0.1%:\")\n",
    "print(f\"fp: {fp}   fn:{fn}   rec:{100*rec:.1f}%   prec:{100*prec:.1f}%\")"
   ]
  },
  {
   "cell_type": "code",
   "execution_count": null,
   "metadata": {},
   "outputs": [],
   "source": []
  }
 ],
 "metadata": {
  "kernelspec": {
   "display_name": "tf",
   "language": "python",
   "name": "python3"
  },
  "language_info": {
   "codemirror_mode": {
    "name": "ipython",
    "version": 3
   },
   "file_extension": ".py",
   "mimetype": "text/x-python",
   "name": "python",
   "nbconvert_exporter": "python",
   "pygments_lexer": "ipython3",
   "version": "3.11.5"
  },
  "orig_nbformat": 4
 },
 "nbformat": 4,
 "nbformat_minor": 2
}
