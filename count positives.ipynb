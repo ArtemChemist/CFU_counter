{
 "cells": [
  {
   "cell_type": "code",
   "execution_count": 1,
   "metadata": {},
   "outputs": [],
   "source": [
    "import numpy as np\n",
    "import glob\n",
    "import os\n",
    "import shutil\n",
    "from os import path, mkdir"
   ]
  },
  {
   "cell_type": "code",
   "execution_count": 2,
   "metadata": {},
   "outputs": [
    {
     "name": "stdout",
     "output_type": "stream",
     "text": [
      "Total images 4421, 371 positive, 4050 negatoves\n"
     ]
    }
   ],
   "source": [
    "p = path.abspath('.')\n",
    "\n",
    "# Read filenames in the raw data folder\n",
    "image_names = []\n",
    "labels = []\n",
    "num_colonies = []\n",
    "train_folder = path.join(p, 'data_train_val', 'raw_test_val')\n",
    "test_folder = path.join(p, 'data_test')\n",
    "\n",
    "for file in glob.glob(f'{train_folder}/*.jpg'):\n",
    "\tfilename = file.split('/')[-1]\n",
    "\tcol_count = int(filename.split('-')[2].strip().split('.')[0])\n",
    "\tif col_count == 0:\n",
    "\t\tlabels.append(0)\n",
    "\telse:\n",
    "\t\tlabels.append(1)\n",
    "\tnum_colonies.append(col_count)\n",
    "\timage_names.append(filename)\n",
    "\n",
    "for file in glob.glob(f'{test_folder}/*.jpg'):\n",
    "\tfilename = file.split('/')[-1]\n",
    "\tcol_count = int(filename.split('-')[2].strip().split('.')[0])\n",
    "\tif col_count == 0:\n",
    "\t\tlabels.append(0)\n",
    "\telse:\n",
    "\t\tlabels.append(1)\n",
    "\tnum_colonies.append(col_count)\n",
    "\timage_names.append(filename)\n",
    "\n",
    "print(f\"Total images {len(image_names)}, {sum(labels)} positive, {len(labels)-sum(labels)} negatoves\")"
   ]
  },
  {
   "cell_type": "code",
   "execution_count": null,
   "metadata": {},
   "outputs": [],
   "source": []
  }
 ],
 "metadata": {
  "kernelspec": {
   "display_name": "tf",
   "language": "python",
   "name": "python3"
  },
  "language_info": {
   "codemirror_mode": {
    "name": "ipython",
    "version": 3
   },
   "file_extension": ".py",
   "mimetype": "text/x-python",
   "name": "python",
   "nbconvert_exporter": "python",
   "pygments_lexer": "ipython3",
   "version": "3.11.5"
  },
  "orig_nbformat": 4
 },
 "nbformat": 4,
 "nbformat_minor": 2
}
