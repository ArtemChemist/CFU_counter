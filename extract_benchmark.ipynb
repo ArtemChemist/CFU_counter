{
 "cells": [
  {
   "cell_type": "code",
   "execution_count": 2,
   "metadata": {},
   "outputs": [
    {
     "name": "stderr",
     "output_type": "stream",
     "text": [
      "2023-04-05 13:28:04.877173: I tensorflow/core/platform/cpu_feature_guard.cc:193] This TensorFlow binary is optimized with oneAPI Deep Neural Network Library (oneDNN) to use the following CPU instructions in performance-critical operations:  SSE4.1 SSE4.2 AVX AVX2 FMA\n",
      "To enable them in other operations, rebuild TensorFlow with the appropriate compiler flags.\n"
     ]
    }
   ],
   "source": [
    "import numpy as np\n",
    "import matplotlib.pyplot as plt\n",
    "import glob\n",
    "import cv2\n",
    "\n",
    "from keras.models import Model, Sequential\n",
    "from keras.layers import Dense, Flatten, Conv2D, MaxPooling2D\n",
    "from keras.layers.normalization import batch_normalization\n",
    "import os\n",
    "import seaborn as sns"
   ]
  },
  {
   "cell_type": "code",
   "execution_count": 6,
   "metadata": {},
   "outputs": [
    {
     "name": "stdout",
     "output_type": "stream",
     "text": [
      "/home/art_usr/source_code/CFU_counter/Benchmark_data already exists\n"
     ]
    }
   ],
   "source": [
    "# Set up folder\n",
    "p = os.path.abspath('.')\n",
    "benchmark_folder = os.path.join(p, f'Benchmark_data')\n",
    "if not os.path.exists(benchmark_folder):\n",
    "    os.mkdir(benchmark_folder)\n",
    "    print(f\"{benchmark_folder} created\")\n",
    "else:\n",
    "    print(f\"{benchmark_folder} already exists\")\n",
    "output_dir = benchmark_folder"
   ]
  },
  {
   "cell_type": "code",
   "execution_count": 10,
   "metadata": {},
   "outputs": [
    {
     "name": "stdout",
     "output_type": "stream",
     "text": [
      "Im shape (4352,)\n"
     ]
    }
   ],
   "source": [
    "# Read filenames in the raw data folder\n",
    "image_names = []\n",
    "labels = []\n",
    "raw_folder = os.path.join(p, f'Thresholded')\n",
    "\n",
    "for file in glob.glob(f'{raw_folder}/*.jpg'):\n",
    "\tfilename = file.split('/')[-1]\n",
    "\tnum_colonies = int(filename.split('-')[2].strip().split('.')[0])\n",
    "\tif num_colonies == 0:\n",
    "\t\tlabels.append(0)\n",
    "\telse:\n",
    "\t\tlabels.append(1)\n",
    "\timage_names.append(filename)\n",
    "\n",
    "image_names = np.array(image_names)\n",
    "labels = np.array(labels)\n",
    "print(f\"Im shape {image_names.shape}\")"
   ]
  },
  {
   "cell_type": "code",
   "execution_count": 11,
   "metadata": {},
   "outputs": [
    {
     "name": "stdout",
     "output_type": "stream",
     "text": [
      "There are 366 images with bacteria and 3986 without\n"
     ]
    }
   ],
   "source": [
    "#  Get two arrays with filenames for positive and negative images\n",
    "pos_im_files = [image_names[i] for i in range(image_names.shape[0]) if labels[i]]\n",
    "pos_im_files = np.array(pos_im_files)\n",
    "neg_im_files = [image_names[i] for i in range(image_names.shape[0]) if not labels[i]]\n",
    "neg_im_files = np.array(neg_im_files)\n",
    "num_pos = pos_im_files.shape[0]\n",
    "num_neg = neg_im_files.shape[0]\n",
    "print(f'There are {num_pos} images with bacteria and {num_neg} without')"
   ]
  },
  {
   "cell_type": "code",
   "execution_count": 15,
   "metadata": {},
   "outputs": [],
   "source": [
    "#  Make a represantive benchmark data set with ~50 positive images \n",
    "\n",
    "#  Make array of random indeces for negative images\n",
    "np.random.seed(0) # For reproducibility\n",
    "idx = np.random.choice(np.arange(neg_im_files.shape[0]), int(0.14*num_neg), replace = False)\n",
    "#  Apply these indecies to the array of negativeimage names\n",
    "neg_selected_files = neg_im_files[idx]\n",
    "#  Move the resulting files to a benchmark folder\n",
    "for file in neg_selected_files:\n",
    "    if os.path.exists(os.path.join(raw_folder, file)):\n",
    "        os.rename(os.path.join(raw_folder, file), os.path.join(benchmark_folder, file))\n",
    "\n",
    "#  repeat the same for positive images\n",
    "\n",
    "#  Make array of random indeces for negative images\n",
    "idx = np.random.choice(np.arange(pos_im_files.shape[0]), int(0.14*num_pos), replace = False)\n",
    "pos_selected_files = pos_im_files[idx]\n",
    "for file in pos_selected_files:\n",
    "    if os.path.exists(os.path.join(raw_folder, file)):\n",
    "        os.rename(os.path.join(raw_folder, file), os.path.join(benchmark_folder, file))"
   ]
  }
 ],
 "metadata": {
  "kernelspec": {
   "display_name": "tf",
   "language": "python",
   "name": "python3"
  },
  "language_info": {
   "codemirror_mode": {
    "name": "ipython",
    "version": 3
   },
   "file_extension": ".py",
   "mimetype": "text/x-python",
   "name": "python",
   "nbconvert_exporter": "python",
   "pygments_lexer": "ipython3",
   "version": "3.10.8"
  },
  "orig_nbformat": 4
 },
 "nbformat": 4,
 "nbformat_minor": 2
}
