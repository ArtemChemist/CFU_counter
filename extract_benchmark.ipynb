{
 "cells": [
  {
   "cell_type": "code",
   "execution_count": 1,
   "metadata": {},
   "outputs": [],
   "source": [
    "import numpy as np\n",
    "import glob\n",
    "import os"
   ]
  },
  {
   "cell_type": "code",
   "execution_count": 2,
   "metadata": {},
   "outputs": [
    {
     "name": "stdout",
     "output_type": "stream",
     "text": [
      "/home/art_usr/source_code/CFU_counter/Benchmark_data created\n"
     ]
    }
   ],
   "source": [
    "# Set up folder for benchmark set\n",
    "p = os.path.abspath('.')\n",
    "benchmark_folder = os.path.join(p, f'Benchmark_data')\n",
    "if not os.path.exists(benchmark_folder):\n",
    "    os.mkdir(benchmark_folder)\n",
    "    print(f\"{benchmark_folder} created\")\n",
    "else:\n",
    "    print(f\"{benchmark_folder} already exists\")\n",
    "output_dir = benchmark_folder"
   ]
  },
  {
   "cell_type": "code",
   "execution_count": 3,
   "metadata": {},
   "outputs": [
    {
     "name": "stdout",
     "output_type": "stream",
     "text": [
      "Im shape (4421,)\n",
      "371 positive, 4050 negative\n"
     ]
    }
   ],
   "source": [
    "# Read filenames in the thresholded data folder\n",
    "image_names = []\n",
    "labels = []\n",
    "thresh_folder = os.path.join(p, 'Thresholded')\n",
    "\n",
    "for file in glob.glob(f'{thresh_folder}/*.jpg'):\n",
    "\tfilename = file.split('/')[-1]\n",
    "\tnum_colonies = int(filename.split('-')[2].strip().split('.')[0])\n",
    "\tif num_colonies == 0:\n",
    "\t\tlabels.append(0)\n",
    "\telse:\n",
    "\t\tlabels.append(1)\n",
    "\timage_names.append(filename)\n",
    "\n",
    "image_names = np.array(image_names)\n",
    "labels = np.array(labels)\n",
    "print(f\"Im shape {image_names.shape}\")\n",
    "print(f\"{np.sum(labels)} positive, {len(labels)- np.sum(labels)} negative\")"
   ]
  },
  {
   "cell_type": "code",
   "execution_count": 4,
   "metadata": {},
   "outputs": [
    {
     "name": "stdout",
     "output_type": "stream",
     "text": [
      "Suffling the dataset ....\n"
     ]
    }
   ],
   "source": [
    "#  Make a represantive benchmark data set with ~50 positive images \n",
    "\n",
    "np.random.seed(0) # For reproducibility\n",
    "\n",
    "# First, shuffle all images\n",
    "print(\"Suffling the dataset ....\")\n",
    "num_img = image_names.shape[0] # Total numnber of images in the thresholded dataset\n",
    "indices = np.arange(num_img)\n",
    "shuffled_indices = np.random.permutation(indices)\n",
    "X_shuffled = image_names[shuffled_indices]\n",
    "\n",
    "\n",
    "#Now get random 14% of the dataset\n",
    "idx = np.random.choice(np.arange(num_img), int(0.14*num_img), replace = False)\n",
    "#  Apply these indecies to the array of negativeimage names\n",
    "benchmark_files = image_names[idx]\n",
    "#  Move the resulting files to a benchmark folder\n",
    "for file in benchmark_files:\n",
    "    if os.path.exists(os.path.join(thresh_folder, file)):\n",
    "        os.rename(os.path.join(thresh_folder, file), os.path.join(benchmark_folder, file))"
   ]
  },
  {
   "cell_type": "code",
   "execution_count": null,
   "metadata": {},
   "outputs": [],
   "source": [
    "# Check if the image got processed by thresholding code\n",
    "# If it did not, move it to Smpl_Im folder for review\n",
    "raw_names = []\n",
    "raw_folder = os.path.join(p, 'Raw_data_CFU')\n",
    "\n",
    "for file in glob.glob(f'{raw_folder}/*.jpg'):\n",
    "\tfilename = file.split('/')[-1]\n",
    "\traw_names.append(filename)\n",
    "\n",
    "raw_inames  = np.array(raw_names)\n",
    "print(f\"Im shape {raw_inames.shape}\")\n",
    "\n",
    "sample_folder = os.path.join(p, 'Smpl_Im')\n",
    "for file in raw_inames:\n",
    "    if not os.path.exists(os.path.join(thresh_folder, file)):\n",
    "        os.rename(os.path.join(raw_folder, file), os.path.join(sample_folder, file))"
   ]
  }
 ],
 "metadata": {
  "kernelspec": {
   "display_name": "tf",
   "language": "python",
   "name": "python3"
  },
  "language_info": {
   "codemirror_mode": {
    "name": "ipython",
    "version": 3
   },
   "file_extension": ".py",
   "mimetype": "text/x-python",
   "name": "python",
   "nbconvert_exporter": "python",
   "pygments_lexer": "ipython3",
   "version": "3.10.8"
  },
  "orig_nbformat": 4
 },
 "nbformat": 4,
 "nbformat_minor": 2
}
