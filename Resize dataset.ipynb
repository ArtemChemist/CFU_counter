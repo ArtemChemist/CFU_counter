{
 "cells": [
  {
   "cell_type": "code",
   "execution_count": 1,
   "metadata": {},
   "outputs": [
    {
     "name": "stdout",
     "output_type": "stream",
     "text": [
      "/home/art_usr/source_code/CFU_counter/456 created\n"
     ]
    }
   ],
   "source": [
    "import numpy as np\n",
    "import glob\n",
    "from cv2 import resize, imread, imwrite, IMREAD_COLOR\n",
    "from os import path, mkdir\n",
    "\n",
    "# Set up folder\n",
    "SIZE = 456 #Size of the images this model will deal with\n",
    "\n",
    "# Set up folder, unless it is already set up\n",
    "p = path.abspath('.')\n",
    "output_dir = path.join(p, f'{SIZE}')\n",
    "if not path.exists(output_dir):\n",
    "    mkdir(output_dir)\n",
    "    print(f\"{output_dir} created\")\n",
    "else:\n",
    "    print(f\"{output_dir} already exists\")\n",
    "output_dir = output_dir\n",
    "\n",
    "# Resize images and write them into folder, unless they are alrady there\n",
    "for file in glob.glob('./Thresholded_1024/*'):\n",
    "\tfilename = file.split('/')[-1]\n",
    "\tnew_name = path.join(output_dir, filename)\n",
    "\tif not path.exists(new_name):\n",
    "\t\timg = imread(file, IMREAD_COLOR)\n",
    "\t\timg = resize(img, (SIZE,SIZE))\n",
    "\t\timwrite(new_name, img)"
   ]
  },
  {
   "cell_type": "code",
   "execution_count": null,
   "metadata": {},
   "outputs": [],
   "source": []
  }
 ],
 "metadata": {
  "kernelspec": {
   "display_name": "tf",
   "language": "python",
   "name": "python3"
  },
  "language_info": {
   "codemirror_mode": {
    "name": "ipython",
    "version": 3
   },
   "file_extension": ".py",
   "mimetype": "text/x-python",
   "name": "python",
   "nbconvert_exporter": "python",
   "pygments_lexer": "ipython3",
   "version": "3.10.8"
  },
  "orig_nbformat": 4
 },
 "nbformat": 4,
 "nbformat_minor": 2
}
