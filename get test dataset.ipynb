{
 "cells": [
  {
   "cell_type": "code",
   "execution_count": 3,
   "metadata": {},
   "outputs": [],
   "source": [
    "import numpy as np\n",
    "import glob\n",
    "import os\n",
    "import shutil\n",
    "from os import path, mkdir"
   ]
  },
  {
   "cell_type": "code",
   "execution_count": 4,
   "metadata": {},
   "outputs": [
    {
     "name": "stdout",
     "output_type": "stream",
     "text": [
      "/home/art_usr/source_code/CFU_counter/data_test created\n"
     ]
    }
   ],
   "source": [
    "# Set up folder, unless it is already set up\n",
    "p = path.abspath('.')\n",
    "output_dir = path.join(p, 'data_test')\n",
    "if not path.exists(output_dir):\n",
    "    mkdir(output_dir)\n",
    "    print(f\"{output_dir} created\")\n",
    "else:\n",
    "    print(f\"{output_dir} already exists\")"
   ]
  },
  {
   "cell_type": "code",
   "execution_count": 5,
   "metadata": {},
   "outputs": [
    {
     "name": "stdout",
     "output_type": "stream",
     "text": [
      "All files 4421\n"
     ]
    }
   ],
   "source": [
    "# Read filenames in the raw data folder\n",
    "image_names = []\n",
    "raw_folder = path.join(p, f'data_raw')\n",
    "\n",
    "for file in glob.glob(f'{raw_folder}/*.jpg'):\n",
    "\tfilename = file.split('/')[-1]\n",
    "\timage_names.append(filename)\n",
    "\n",
    "print(f\"All files {len(image_names)}\")"
   ]
  },
  {
   "cell_type": "code",
   "execution_count": 7,
   "metadata": {},
   "outputs": [
    {
     "name": "stdout",
     "output_type": "stream",
     "text": [
      "All files 3779\n"
     ]
    }
   ],
   "source": [
    "# Read filenames in the raw data folder\n",
    "train_names = []\n",
    "train_folder = path.join(p, f'data_train_val/128')\n",
    "\n",
    "for file in glob.glob(f'{train_folder}/*.jpg'):\n",
    "\tfilename = file.split('/')[-1]\n",
    "\ttrain_names.append(filename)\n",
    "\n",
    "print(f\"All files {len(train_names)}\")"
   ]
  },
  {
   "cell_type": "code",
   "execution_count": 8,
   "metadata": {},
   "outputs": [],
   "source": [
    "#  Copy test images images to a seprate folder\n",
    "\n",
    "for file in image_names:\n",
    "    if file not in train_names:\n",
    "        path_now = os.path.join(raw_folder, file)\n",
    "        new_path = os.path.join(output_dir, file)\n",
    "        shutil.move(path_now , new_path )"
   ]
  },
  {
   "attachments": {},
   "cell_type": "markdown",
   "metadata": {},
   "source": [
    "#### Manually go through positives folder, move false positives to a \"positive_false\" folder"
   ]
  },
  {
   "cell_type": "code",
   "execution_count": 9,
   "metadata": {},
   "outputs": [
    {
     "name": "stdout",
     "output_type": "stream",
     "text": [
      "Im shape (24,)\n"
     ]
    }
   ],
   "source": [
    "# Check if the image is in false positive folder \n",
    "# Delete it from thresholded folder, 224 folder, benchmark folders\n",
    "\n",
    "p = path.abspath('.')\n",
    "fp_names = []\n",
    "fp_folder = path.join(p, 'positive_false')\n",
    "raw_folder = path.join(p, 'Raw_images')\n",
    "raw_fp = path.join(p, 'Raw_images_onlyFP')\n",
    "\n",
    "bmrk_nth_224_folder = path.join(p, 'Benchmark_nothresh_224')\n",
    "bmrk_th_1024_folder = path.join(p, 'Benchmark_thresh_1024')\n",
    "folder_224 = path.join(p, '224')\n",
    "folder_224_nothresh = path.join(p, '224_nothresh')\n",
    "folder_thr = path.join(p, 'Thresholded')\n",
    "\n",
    "dirs_to_clean = [bmrk_nth_224_folder, bmrk_th_1024_folder, folder_224, folder_224_nothresh, folder_thr]\n",
    "\n",
    "for file in glob.glob(f'{raw_fp}/*.jpg'):\n",
    "\tfilename = file.split('/')[-1]\n",
    "\tfp_names.append(filename)\n",
    "\n",
    "fp_names  = np.array(fp_names)\n",
    "print(f\"Im shape {fp_names.shape}\")\n",
    "\n",
    "# Move there the raw version of this image to a seprate folder\n",
    "for file in fp_names:\n",
    "    for dir in dirs_to_clean:\n",
    "         path_to_remove = path.join(dir, file)\n",
    "         if path.exists(path_to_remove):\n",
    "              os.remove(path_to_remove)\n",
    "\n"
   ]
  }
 ],
 "metadata": {
  "kernelspec": {
   "display_name": "tf",
   "language": "python",
   "name": "python3"
  },
  "language_info": {
   "codemirror_mode": {
    "name": "ipython",
    "version": 3
   },
   "file_extension": ".py",
   "mimetype": "text/x-python",
   "name": "python",
   "nbconvert_exporter": "python",
   "pygments_lexer": "ipython3",
   "version": "3.10.12"
  },
  "orig_nbformat": 4
 },
 "nbformat": 4,
 "nbformat_minor": 2
}
