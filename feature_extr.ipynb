{
 "cells": [
  {
   "cell_type": "code",
   "execution_count": 1,
   "metadata": {},
   "outputs": [
    {
     "name": "stderr",
     "output_type": "stream",
     "text": [
      "2023-04-02 15:42:10.188936: I tensorflow/core/platform/cpu_feature_guard.cc:193] This TensorFlow binary is optimized with oneAPI Deep Neural Network Library (oneDNN) to use the following CPU instructions in performance-critical operations:  SSE4.1 SSE4.2 AVX AVX2 FMA\n",
      "To enable them in other operations, rebuild TensorFlow with the appropriate compiler flags.\n"
     ]
    }
   ],
   "source": [
    "import numpy as np\n",
    "import matplotlib.pyplot as plt\n",
    "import glob\n",
    "import cv2\n",
    "\n",
    "from keras.models import Model, Sequential\n",
    "from keras.layers import Dense, Flatten, Conv2D, MaxPooling2D\n",
    "from keras.layers.normalization import batch_normalization\n",
    "import os\n",
    "import seaborn as sns"
   ]
  },
  {
   "cell_type": "code",
   "execution_count": 2,
   "metadata": {},
   "outputs": [],
   "source": [
    "SIZE = 64\n",
    "images = []\n",
    "labels = []\n",
    "\n",
    "for file in glob.glob('./Downsampled/*'):\n",
    "\tif file[-5] == '0':\n",
    "\t\tlabels.append(0)\n",
    "\telse:\n",
    "\t\tlabels.append(1)\n",
    "\timg = cv2.imread(file, cv2.IMREAD_COLOR)\n",
    "\timg = cv2.resize(img, (SIZE,SIZE))\n",
    "\timg = cv2.cvtColor(img, cv2.COLOR_RGB2HSV)\n",
    "\timages.append(img)\n",
    "\n",
    "images = np.array(images)\n",
    "labels = np.array(labels)\n",
    "\n",
    "x_train = images[:300, :, :, :]/255\n",
    "y_train = labels[:300]\n",
    "\n",
    "x_test = images[300:400, :, :, :]/255\n",
    "y_test= labels[300:400]"
   ]
  },
  {
   "cell_type": "code",
   "execution_count": 10,
   "metadata": {},
   "outputs": [],
   "source": [
    "from keras.utils import to_categorical\n",
    "y_train_one_hot = to_categorical(y_train)\n",
    "y_test_one_hot = to_categorical(y_test)"
   ]
  },
  {
   "cell_type": "code",
   "execution_count": 11,
   "metadata": {},
   "outputs": [],
   "source": [
    "activation = 'sigmoid'\n",
    "\n",
    "feature_extractor = Sequential()\n",
    "feature_extractor.add(Conv2D(32, 3, activation = activation, padding = 'same', input_shape = (SIZE, SIZE, 3)))\n",
    "feature_extractor.add(batch_normalization.BatchNormalization())\n",
    "\n",
    "feature_extractor.add(Conv2D(32, 3, activation = activation, padding = 'same', kernel_initializer = 'he_uniform'))\n",
    "feature_extractor.add(batch_normalization.BatchNormalization())\n",
    "feature_extractor.add(MaxPooling2D())\n",
    "\n",
    "feature_extractor.add(Conv2D(64, 3, activation = activation, padding = 'same', kernel_initializer = 'he_uniform'))\n",
    "feature_extractor.add(batch_normalization.BatchNormalization())\n",
    "\n",
    "feature_extractor.add(Conv2D(64, 3, activation = activation, padding = 'same', kernel_initializer = 'he_uniform'))\n",
    "feature_extractor.add(batch_normalization.BatchNormalization())\n",
    "feature_extractor.add(MaxPooling2D())\n",
    "\n",
    "feature_extractor.add(Flatten())"
   ]
  },
  {
   "cell_type": "code",
   "execution_count": 12,
   "metadata": {},
   "outputs": [
    {
     "name": "stdout",
     "output_type": "stream",
     "text": [
      "Model: \"model_3\"\n",
      "_________________________________________________________________\n",
      " Layer (type)                Output Shape              Param #   \n",
      "=================================================================\n",
      " conv2d_4_input (InputLayer)  [(None, 64, 64, 3)]      0         \n",
      "                                                                 \n",
      " conv2d_4 (Conv2D)           (None, 64, 64, 32)        896       \n",
      "                                                                 \n",
      " batch_normalization_4 (Batc  (None, 64, 64, 32)       128       \n",
      " hNormalization)                                                 \n",
      "                                                                 \n",
      " conv2d_5 (Conv2D)           (None, 64, 64, 32)        9248      \n",
      "                                                                 \n",
      " batch_normalization_5 (Batc  (None, 64, 64, 32)       128       \n",
      " hNormalization)                                                 \n",
      "                                                                 \n",
      " max_pooling2d_2 (MaxPooling  (None, 32, 32, 32)       0         \n",
      " 2D)                                                             \n",
      "                                                                 \n",
      " conv2d_6 (Conv2D)           (None, 32, 32, 64)        18496     \n",
      "                                                                 \n",
      " batch_normalization_6 (Batc  (None, 32, 32, 64)       256       \n",
      " hNormalization)                                                 \n",
      "                                                                 \n",
      " conv2d_7 (Conv2D)           (None, 32, 32, 64)        36928     \n",
      "                                                                 \n",
      " batch_normalization_7 (Batc  (None, 32, 32, 64)       256       \n",
      " hNormalization)                                                 \n",
      "                                                                 \n",
      " max_pooling2d_3 (MaxPooling  (None, 16, 16, 64)       0         \n",
      " 2D)                                                             \n",
      "                                                                 \n",
      " flatten_1 (Flatten)         (None, 16384)             0         \n",
      "                                                                 \n",
      " dense_6 (Dense)             (None, 128)               2097280   \n",
      "                                                                 \n",
      " dense_7 (Dense)             (None, 2)                 258       \n",
      "                                                                 \n",
      "=================================================================\n",
      "Total params: 2,163,874\n",
      "Trainable params: 2,163,490\n",
      "Non-trainable params: 384\n",
      "_________________________________________________________________\n",
      "None\n"
     ]
    }
   ],
   "source": [
    "#Add layers for deep learning prediction\n",
    "x = feature_extractor.output  \n",
    "x = Dense(128, activation = activation, kernel_initializer = 'he_uniform')(x)\n",
    "prediction_layer = Dense(2, activation = 'softmax')(x)\n",
    "\n",
    "# Make a new model combining both feature extractor and x\n",
    "cnn_model = Model(inputs=feature_extractor.input, outputs=prediction_layer)\n",
    "cnn_model.compile(optimizer='rmsprop',loss = 'categorical_crossentropy', metrics = ['accuracy'])\n",
    "print(cnn_model.summary()) "
   ]
  },
  {
   "cell_type": "code",
   "execution_count": 13,
   "metadata": {},
   "outputs": [
    {
     "name": "stdout",
     "output_type": "stream",
     "text": [
      "Epoch 1/50\n",
      "10/10 [==============================] - 10s 939ms/step - loss: 0.6456 - accuracy: 0.9033 - val_loss: 0.6401 - val_accuracy: 0.9200\n",
      "Epoch 2/50\n",
      "10/10 [==============================] - 10s 980ms/step - loss: 0.5719 - accuracy: 0.9233 - val_loss: 0.5330 - val_accuracy: 0.9200\n",
      "Epoch 3/50\n",
      "10/10 [==============================] - 9s 878ms/step - loss: 0.4700 - accuracy: 0.9233 - val_loss: 0.4258 - val_accuracy: 0.9200\n",
      "Epoch 4/50\n",
      "10/10 [==============================] - 9s 947ms/step - loss: 0.3760 - accuracy: 0.9233 - val_loss: 0.3450 - val_accuracy: 0.9200\n",
      "Epoch 5/50\n",
      "10/10 [==============================] - 9s 929ms/step - loss: 0.3071 - accuracy: 0.9233 - val_loss: 0.2914 - val_accuracy: 0.9200\n",
      "Epoch 6/50\n",
      "10/10 [==============================] - 9s 918ms/step - loss: 0.2771 - accuracy: 0.9233 - val_loss: 0.2789 - val_accuracy: 0.9200\n",
      "Epoch 7/50\n",
      "10/10 [==============================] - 10s 987ms/step - loss: 0.2722 - accuracy: 0.9233 - val_loss: 0.2815 - val_accuracy: 0.9200\n",
      "Epoch 8/50\n",
      "10/10 [==============================] - 10s 975ms/step - loss: 0.2740 - accuracy: 0.9233 - val_loss: 0.2827 - val_accuracy: 0.9200\n",
      "Epoch 9/50\n",
      "10/10 [==============================] - 9s 918ms/step - loss: 0.2746 - accuracy: 0.9233 - val_loss: 0.2788 - val_accuracy: 0.9200\n",
      "Epoch 10/50\n",
      "10/10 [==============================] - 9s 910ms/step - loss: 0.2740 - accuracy: 0.9233 - val_loss: 0.2827 - val_accuracy: 0.9200\n",
      "Epoch 11/50\n",
      "10/10 [==============================] - 9s 888ms/step - loss: 0.2806 - accuracy: 0.9233 - val_loss: 0.2820 - val_accuracy: 0.9200\n",
      "Epoch 12/50\n",
      "10/10 [==============================] - 9s 940ms/step - loss: 0.2731 - accuracy: 0.9233 - val_loss: 0.2805 - val_accuracy: 0.9200\n",
      "Epoch 13/50\n",
      "10/10 [==============================] - 9s 935ms/step - loss: 0.2851 - accuracy: 0.9233 - val_loss: 0.2807 - val_accuracy: 0.9200\n",
      "Epoch 14/50\n",
      "10/10 [==============================] - 9s 936ms/step - loss: 0.2723 - accuracy: 0.9233 - val_loss: 0.2816 - val_accuracy: 0.9200\n",
      "Epoch 15/50\n",
      "10/10 [==============================] - 9s 950ms/step - loss: 0.2720 - accuracy: 0.9233 - val_loss: 0.2810 - val_accuracy: 0.9200\n",
      "Epoch 16/50\n",
      "10/10 [==============================] - 9s 932ms/step - loss: 0.2707 - accuracy: 0.9233 - val_loss: 0.2820 - val_accuracy: 0.9200\n",
      "Epoch 17/50\n",
      "10/10 [==============================] - 9s 943ms/step - loss: 0.2683 - accuracy: 0.9233 - val_loss: 0.2795 - val_accuracy: 0.9200\n",
      "Epoch 18/50\n",
      "10/10 [==============================] - 9s 931ms/step - loss: 0.2653 - accuracy: 0.9233 - val_loss: 0.2785 - val_accuracy: 0.9200\n",
      "Epoch 19/50\n",
      "10/10 [==============================] - 9s 940ms/step - loss: 0.2681 - accuracy: 0.9200 - val_loss: 0.2764 - val_accuracy: 0.9200\n",
      "Epoch 20/50\n",
      "10/10 [==============================] - 9s 934ms/step - loss: 0.2631 - accuracy: 0.9233 - val_loss: 0.2760 - val_accuracy: 0.9200\n",
      "Epoch 21/50\n",
      "10/10 [==============================] - 9s 890ms/step - loss: 0.2577 - accuracy: 0.9267 - val_loss: 0.2808 - val_accuracy: 0.9200\n",
      "Epoch 22/50\n",
      "10/10 [==============================] - 9s 944ms/step - loss: 0.2587 - accuracy: 0.9267 - val_loss: 0.2766 - val_accuracy: 0.9200\n",
      "Epoch 23/50\n",
      "10/10 [==============================] - 9s 965ms/step - loss: 0.2561 - accuracy: 0.9267 - val_loss: 0.2758 - val_accuracy: 0.9200\n",
      "Epoch 24/50\n",
      "10/10 [==============================] - 9s 952ms/step - loss: 0.2561 - accuracy: 0.9267 - val_loss: 0.2779 - val_accuracy: 0.9200\n",
      "Epoch 25/50\n",
      "10/10 [==============================] - 10s 995ms/step - loss: 0.2593 - accuracy: 0.9267 - val_loss: 0.2783 - val_accuracy: 0.9200\n",
      "Epoch 26/50\n",
      "10/10 [==============================] - 10s 987ms/step - loss: 0.2556 - accuracy: 0.9267 - val_loss: 0.2818 - val_accuracy: 0.9200\n",
      "Epoch 27/50\n",
      "10/10 [==============================] - 10s 1s/step - loss: 0.2585 - accuracy: 0.9267 - val_loss: 0.2816 - val_accuracy: 0.9200\n",
      "Epoch 28/50\n",
      "10/10 [==============================] - 10s 997ms/step - loss: 0.2641 - accuracy: 0.9267 - val_loss: 0.2722 - val_accuracy: 0.9200\n",
      "Epoch 29/50\n",
      "10/10 [==============================] - 10s 1s/step - loss: 0.2597 - accuracy: 0.9267 - val_loss: 0.2824 - val_accuracy: 0.9200\n",
      "Epoch 30/50\n",
      "10/10 [==============================] - 10s 994ms/step - loss: 0.2459 - accuracy: 0.9267 - val_loss: 0.2820 - val_accuracy: 0.9200\n",
      "Epoch 31/50\n",
      "10/10 [==============================] - 10s 1s/step - loss: 0.2461 - accuracy: 0.9267 - val_loss: 0.2772 - val_accuracy: 0.9200\n",
      "Epoch 32/50\n",
      "10/10 [==============================] - 10s 1s/step - loss: 0.2441 - accuracy: 0.9267 - val_loss: 0.2755 - val_accuracy: 0.9200\n",
      "Epoch 33/50\n",
      "10/10 [==============================] - 9s 927ms/step - loss: 0.2430 - accuracy: 0.9267 - val_loss: 0.2825 - val_accuracy: 0.9200\n",
      "Epoch 34/50\n",
      "10/10 [==============================] - 10s 984ms/step - loss: 0.2415 - accuracy: 0.9267 - val_loss: 0.2870 - val_accuracy: 0.9200\n",
      "Epoch 35/50\n",
      "10/10 [==============================] - 10s 984ms/step - loss: 0.2335 - accuracy: 0.9300 - val_loss: 0.2849 - val_accuracy: 0.9200\n",
      "Epoch 36/50\n",
      "10/10 [==============================] - 10s 1s/step - loss: 0.2325 - accuracy: 0.9300 - val_loss: 0.2851 - val_accuracy: 0.9200\n",
      "Epoch 37/50\n",
      "10/10 [==============================] - 10s 1s/step - loss: 0.2229 - accuracy: 0.9300 - val_loss: 0.2895 - val_accuracy: 0.9200\n",
      "Epoch 38/50\n",
      "10/10 [==============================] - 10s 1s/step - loss: 0.2200 - accuracy: 0.9300 - val_loss: 0.2808 - val_accuracy: 0.9200\n",
      "Epoch 39/50\n",
      "10/10 [==============================] - 10s 1s/step - loss: 0.2141 - accuracy: 0.9300 - val_loss: 0.2750 - val_accuracy: 0.9200\n",
      "Epoch 40/50\n",
      "10/10 [==============================] - 10s 986ms/step - loss: 0.2133 - accuracy: 0.9300 - val_loss: 0.2878 - val_accuracy: 0.9200\n",
      "Epoch 41/50\n",
      "10/10 [==============================] - 10s 998ms/step - loss: 0.1939 - accuracy: 0.9300 - val_loss: 0.2896 - val_accuracy: 0.9200\n",
      "Epoch 42/50\n",
      "10/10 [==============================] - 10s 1s/step - loss: 0.1971 - accuracy: 0.9333 - val_loss: 0.2858 - val_accuracy: 0.9200\n",
      "Epoch 43/50\n",
      "10/10 [==============================] - 10s 1s/step - loss: 0.1852 - accuracy: 0.9300 - val_loss: 0.3047 - val_accuracy: 0.9200\n",
      "Epoch 44/50\n",
      "10/10 [==============================] - 10s 988ms/step - loss: 0.1695 - accuracy: 0.9333 - val_loss: 0.2848 - val_accuracy: 0.9200\n",
      "Epoch 45/50\n",
      "10/10 [==============================] - 10s 995ms/step - loss: 0.1655 - accuracy: 0.9400 - val_loss: 0.2810 - val_accuracy: 0.9200\n",
      "Epoch 46/50\n",
      "10/10 [==============================] - 10s 1s/step - loss: 0.1531 - accuracy: 0.9433 - val_loss: 0.2704 - val_accuracy: 0.9200\n",
      "Epoch 47/50\n",
      "10/10 [==============================] - 10s 1s/step - loss: 0.1523 - accuracy: 0.9367 - val_loss: 0.2700 - val_accuracy: 0.9200\n",
      "Epoch 48/50\n",
      "10/10 [==============================] - 10s 958ms/step - loss: 0.1403 - accuracy: 0.9600 - val_loss: 0.3094 - val_accuracy: 0.9200\n",
      "Epoch 49/50\n",
      "10/10 [==============================] - 10s 1s/step - loss: 0.1225 - accuracy: 0.9533 - val_loss: 0.2797 - val_accuracy: 0.9200\n",
      "Epoch 50/50\n",
      "10/10 [==============================] - 11s 1s/step - loss: 0.1201 - accuracy: 0.9600 - val_loss: 0.3193 - val_accuracy: 0.9200\n"
     ]
    }
   ],
   "source": [
    "\n",
    "history = cnn_model.fit(x_train, y_train_one_hot, epochs=50, validation_data = (x_test, y_test_one_hot))"
   ]
  },
  {
   "cell_type": "code",
   "execution_count": 15,
   "metadata": {},
   "outputs": [
    {
     "data": {
      "image/png": "[encoded data removed]",
      "text/plain": [
       "<Figure size 640x480 with 1 Axes>"
      ]
     },
     "metadata": {},
     "output_type": "display_data"
    }
   ],
   "source": [
    "loss = history.history['accuracy']\n",
    "val_loss = history.history['val_accuracy']\n",
    "epochs = range(1, len(loss) + 1)\n",
    "plt.plot(epochs, loss, 'y', label='Training loss')\n",
    "plt.plot(epochs, val_loss, 'r', label='Validation loss')\n",
    "plt.title('Training and validation loss')\n",
    "plt.xlabel('Epochs')\n",
    "plt.ylabel('Loss')\n",
    "plt.legend()\n",
    "plt.show()"
   ]
  },
  {
   "cell_type": "code",
   "execution_count": 16,
   "metadata": {},
   "outputs": [
    {
     "name": "stdout",
     "output_type": "stream",
     "text": [
      "4/4 [==============================] - 1s 173ms/step\n",
      "[[92  0]\n",
      " [ 8  0]]\n"
     ]
    },
    {
     "data": {
      "text/plain": [
       "<AxesSubplot: >"
      ]
     },
     "execution_count": 16,
     "metadata": {},
     "output_type": "execute_result"
    },
    {
     "data": {
      "image/png": "[encoded data removed]",
      "text/plain": [
       "<Figure size 640x480 with 2 Axes>"
      ]
     },
     "metadata": {},
     "output_type": "display_data"
    }
   ],
   "source": [
    "prediction_NN = cnn_model.predict(x_test)\n",
    "prediction_NN = np.argmax(prediction_NN, axis=-1)\n",
    "\n",
    "from sklearn.metrics import confusion_matrix\n",
    "cm = confusion_matrix(y_test, prediction_NN)\n",
    "print(cm)\n",
    "sns.heatmap(cm, annot=True)"
   ]
  },
  {
   "cell_type": "code",
   "execution_count": 17,
   "metadata": {},
   "outputs": [
    {
     "name": "stdout",
     "output_type": "stream",
     "text": [
      "10/10 [==============================] - 2s 216ms/step\n"
     ]
    }
   ],
   "source": [
    "#Now, let us use features from convolutional network for RF\n",
    "X_for_RF = feature_extractor.predict(x_train) #This is out X input to RF"
   ]
  },
  {
   "cell_type": "code",
   "execution_count": 19,
   "metadata": {},
   "outputs": [
    {
     "name": "stdout",
     "output_type": "stream",
     "text": [
      "4/4 [==============================] - 1s 193ms/step\n",
      "Accuracy =  0.94\n"
     ]
    }
   ],
   "source": [
    "#RANDOM FOREST\n",
    "from sklearn.ensemble import RandomForestClassifier\n",
    "RF_model = RandomForestClassifier(n_estimators = 50, random_state = 42)\n",
    "\n",
    "# Train the model on training data\n",
    "RF_model.fit(X_for_RF, y_train) #For sklearn no one hot encoding\n",
    "\n",
    "#Send test data through same feature extractor process\n",
    "X_test_feature = feature_extractor.predict(x_test)\n",
    "#Now predict using the trained RF model. \n",
    "prediction_RF = RF_model.predict(X_test_feature)\n",
    "\n",
    "#Print overall accuracy\n",
    "from sklearn import metrics\n",
    "print (\"Accuracy = \", metrics.accuracy_score(y_test, prediction_RF))"
   ]
  },
  {
   "cell_type": "code",
   "execution_count": 20,
   "metadata": {},
   "outputs": [
    {
     "data": {
      "text/plain": [
       "<AxesSubplot: >"
      ]
     },
     "execution_count": 20,
     "metadata": {},
     "output_type": "execute_result"
    },
    {
     "data": {
      "image/png": "[encoded data removed]",
      "text/plain": [
       "<Figure size 640x480 with 2 Axes>"
      ]
     },
     "metadata": {},
     "output_type": "display_data"
    }
   ],
   "source": [
    "#Confusion Matrix - verify accuracy of each class\n",
    "cm = confusion_matrix(y_test, prediction_RF)\n",
    "#print(cm)\n",
    "sns.heatmap(cm, annot=True)"
   ]
  },
  {
   "cell_type": "code",
   "execution_count": null,
   "metadata": {},
   "outputs": [],
   "source": []
  }
 ],
 "metadata": {
  "kernelspec": {
   "display_name": "tf",
   "language": "python",
   "name": "python3"
  },
  "language_info": {
   "codemirror_mode": {
    "name": "ipython",
    "version": 3
   },
   "file_extension": ".py",
   "mimetype": "text/x-python",
   "name": "python",
   "nbconvert_exporter": "python",
   "pygments_lexer": "ipython3",
   "version": "3.10.8"
  },
  "orig_nbformat": 4
 },
 "nbformat": 4,
 "nbformat_minor": 2
}
