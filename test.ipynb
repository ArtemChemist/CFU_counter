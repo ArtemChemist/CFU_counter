{
 "cells": [
  {
   "cell_type": "code",
   "execution_count": 53,
   "metadata": {},
   "outputs": [
    {
     "data": {
      "text/plain": [
       "array([[[False, False, False, False, False, False, False, False, False],\n",
       "        [False, False, False, False, False, False, False, False, False],\n",
       "        [False, False, False, False, False, False, False, False, False],\n",
       "        [False, False, False, False, False, False, False, False, False],\n",
       "        [False, False, False, False, False,  True, False, False, False],\n",
       "        [False, False, False,  True,  True,  True,  True,  True, False],\n",
       "        [False, False, False,  True, False, False, False,  True, False],\n",
       "        [False, False,  True,  True, False, False, False,  True,  True],\n",
       "        [False, False, False,  True, False, False, False,  True, False],\n",
       "        [False, False, False,  True,  True,  True,  True,  True, False],\n",
       "        [False, False, False, False, False,  True, False, False, False],\n",
       "        [False, False, False, False, False, False, False, False, False],\n",
       "        [False, False, False, False, False, False, False, False, False],\n",
       "        [False, False, False, False, False, False, False, False, False],\n",
       "        [False, False, False, False, False, False, False, False, False],\n",
       "        [False, False, False, False, False, False, False, False, False],\n",
       "        [False, False, False, False, False, False, False, False, False],\n",
       "        [False, False, False, False, False, False, False, False, False],\n",
       "        [False, False, False, False, False, False, False, False, False],\n",
       "        [False, False, False, False, False, False, False, False, False]],\n",
       "\n",
       "       [[False, False, False, False, False, False, False, False, False],\n",
       "        [False, False, False, False, False, False, False, False, False],\n",
       "        [False, False, False, False, False, False, False, False, False],\n",
       "        [False, False, False, False, False,  True, False, False, False],\n",
       "        [False, False, False,  True,  True,  True,  True,  True, False],\n",
       "        [False, False,  True, False, False, False, False, False,  True],\n",
       "        [False, False,  True, False, False, False, False, False,  True],\n",
       "        [False,  True,  True, False, False, False, False, False,  True],\n",
       "        [False, False,  True, False, False, False, False, False,  True],\n",
       "        [False, False,  True, False, False, False, False, False,  True],\n",
       "        [False, False, False,  True,  True,  True,  True,  True, False],\n",
       "        [False, False, False, False, False,  True, False, False, False],\n",
       "        [False, False, False, False, False, False, False, False, False],\n",
       "        [False, False, False, False, False, False, False, False, False],\n",
       "        [False, False, False, False, False, False, False, False, False],\n",
       "        [False, False, False, False, False, False, False, False, False],\n",
       "        [False, False, False, False, False, False, False, False, False],\n",
       "        [False, False, False, False, False, False, False, False, False],\n",
       "        [False, False, False, False, False, False, False, False, False],\n",
       "        [False, False, False, False, False, False, False, False, False]]])"
      ]
     },
     "execution_count": 53,
     "metadata": {},
     "output_type": "execute_result"
    }
   ],
   "source": [
    "import numpy as np\n",
    "import matplotlib.pyplot as plt\n",
    "in_radius = 2\n",
    "out_radius = 3\n",
    "Z, Y, X= np.ogrid[:2, :20, :9]\n",
    "dist_from_center_sq = (Z-Z) + (Y - 7)**2 + (X-5)**2\n",
    "mask = (dist_from_center_sq >= (in_radius+Z)**2 ) & (dist_from_center_sq <= (out_radius+Z)**2)\n",
    "mask.astype(np.uint8)\n",
    "mask\n"
   ]
  },
  {
   "cell_type": "code",
   "execution_count": null,
   "metadata": {},
   "outputs": [],
   "source": []
  }
 ],
 "metadata": {
  "kernelspec": {
   "display_name": "tf",
   "language": "python",
   "name": "python3"
  },
  "language_info": {
   "codemirror_mode": {
    "name": "ipython",
    "version": 3
   },
   "file_extension": ".py",
   "mimetype": "text/x-python",
   "name": "python",
   "nbconvert_exporter": "python",
   "pygments_lexer": "ipython3",
   "version": "3.10.8"
  },
  "orig_nbformat": 4
 },
 "nbformat": 4,
 "nbformat_minor": 2
}
