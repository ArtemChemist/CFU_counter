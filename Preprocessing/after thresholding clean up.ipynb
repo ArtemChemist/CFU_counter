{
 "cells": [
  {
   "cell_type": "code",
   "execution_count": null,
   "metadata": {},
   "outputs": [],
   "source": [
    "import numpy as np\n",
    "import glob\n",
    "import os\n",
    "\n",
    "# Check if the image got processed by thresholding code\n",
    "# If it did not, move it to Smpl_Im folder for review\n",
    "raw_names = []\n",
    "raw_folder = os.path.join(p, '224_nothresh')\n",
    "\n",
    "for file in glob.glob(f'{raw_folder}/*.jpg'):\n",
    "\tfilename = file.split('/')[-1]\n",
    "\traw_names.append(filename)\n",
    "\n",
    "raw_names  = np.array(raw_names)\n",
    "print(f\"Im shape {raw_names.shape}\")\n",
    "\n",
    "sample_folder = os.path.join(p, 'Benchmark_thresh_1024')\n",
    "for file in raw_names:\n",
    "    if os.path.exists(os.path.join(sample_folder, file)):\n",
    "        os.rename(  os.path.join(raw_folder, file), os.path.join(output_dir, file)  )"
   ]
  }
 ],
 "metadata": {
  "language_info": {
   "name": "python"
  },
  "orig_nbformat": 4
 },
 "nbformat": 4,
 "nbformat_minor": 2
}
